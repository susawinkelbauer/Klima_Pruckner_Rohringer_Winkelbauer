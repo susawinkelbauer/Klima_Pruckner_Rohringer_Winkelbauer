{
 "cells": [
  {
   "cell_type": "code",
   "execution_count": 34,
   "metadata": {},
   "outputs": [],
   "source": [
    "import xarray as xr\n",
    "import numpy as np"
   ]
  },
  {
   "cell_type": "markdown",
   "metadata": {},
   "source": [
    "### Test mit MSLP"
   ]
  },
  {
   "cell_type": "markdown",
   "metadata": {},
   "source": [
    "#### import and rename"
   ]
  },
  {
   "cell_type": "code",
   "execution_count": 35,
   "metadata": {},
   "outputs": [],
   "source": [
    "mslp_test = xr.open_mfdataset('/mnt/c/Users/susaw/Desktop/JRA-55_subsets/mslp/*.nc',\n",
    "                       chunks={'initial_time0_hours':504,'g0_lat_1':29,'g0_lon_2':29})\n",
    "mslp_test = mslp_test.rename({'initial_time0_hours':'time','g0_lat_1':'lat','g0_lon_2':'lon',\n",
    "                'PRMSL_GDS0_MSL':'mslp'})\n",
    "mslp_test.coords['lon'] = (mslp_test.coords['lon'] + 180) % 360 - 180\n",
    "mslp_test=mslp_test.drop(\"initial_time0_encoded\")\n",
    "#print(mslp_test)"
   ]
  },
  {
   "cell_type": "markdown",
   "metadata": {},
   "source": [
    "#### Tageswerte"
   ]
  },
  {
   "cell_type": "code",
   "execution_count": 36,
   "metadata": {},
   "outputs": [
    {
     "name": "stdout",
     "output_type": "stream",
     "text": [
      "<xarray.Dataset>\n",
      "Dimensions:  (lat: 29, lon: 29, time: 1461)\n",
      "Coordinates:\n",
      "  * time     (time) datetime64[ns] 1958-01-01 1958-01-02 ... 1961-12-31\n",
      "  * lat      (lat) float32 67.5 66.25 65.0 63.75 62.5 ... 36.25 35.0 33.75 32.5\n",
      "  * lon      (lon) float32 -10.0 -8.75 -7.5 -6.25 -5.0 ... 21.25 22.5 23.75 25.0\n",
      "Data variables:\n",
      "    mslp     (time, lat, lon) float32 dask.array<shape=(1461, 29, 29), chunksize=(504, 29, 29)>\n"
     ]
    }
   ],
   "source": [
    "daily_mslp = mslp_test.resample(time='1D').mean().chunk({'time':504,'lat':29,'lon':29})\n",
    "print(daily_mslp)"
   ]
  },
  {
   "cell_type": "markdown",
   "metadata": {},
   "source": [
    "#### gleitendes Mittel über 21 Tage + Klimatologien"
   ]
  },
  {
   "cell_type": "code",
   "execution_count": 37,
   "metadata": {},
   "outputs": [
    {
     "name": "stdout",
     "output_type": "stream",
     "text": [
      "<xarray.Dataset>\n",
      "Dimensions:    (dayofyear: 366, lat: 29, lon: 29)\n",
      "Coordinates:\n",
      "  * lat        (lat) float32 67.5 66.25 65.0 63.75 ... 36.25 35.0 33.75 32.5\n",
      "  * lon        (lon) float32 -10.0 -8.75 -7.5 -6.25 ... 21.25 22.5 23.75 25.0\n",
      "  * dayofyear  (dayofyear) int64 1 2 3 4 5 6 7 8 ... 360 361 362 363 364 365 366\n",
      "Data variables:\n",
      "    mslp       (dayofyear, lat, lon) float32 dask.array<shape=(366, 29, 29), chunksize=(1, 29, 29)>\n"
     ]
    }
   ],
   "source": [
    "dailyroll_mslp = daily_mslp.rolling(time=21,center=True).mean()\n",
    "climatology=dailyroll_mslp.groupby(\"time.dayofyear\").mean('time')\n",
    "print(climatology)"
   ]
  },
  {
   "cell_type": "markdown",
   "metadata": {},
   "source": [
    "### Anomalien"
   ]
  },
  {
   "cell_type": "code",
   "execution_count": 38,
   "metadata": {},
   "outputs": [],
   "source": [
    "anomalie_mslp = dailyroll_mslp.groupby('time.dayofyear') - climatology"
   ]
  },
  {
   "cell_type": "markdown",
   "metadata": {},
   "source": [
    "#### Normieren der Anomalien"
   ]
  },
  {
   "cell_type": "code",
   "execution_count": 39,
   "metadata": {},
   "outputs": [
    {
     "name": "stderr",
     "output_type": "stream",
     "text": [
      "/home/susa/anaconda3/envs/env1/lib/python3.7/site-packages/xarray/core/groupby.py:758: FutureWarning: Default reduction dimension will be changed to the grouped dimension in a future version of xarray. To silence this warning, pass dim=xarray.ALL_DIMS explicitly.\n",
      "  allow_lazy=True, **kwargs)\n"
     ]
    }
   ],
   "source": [
    "std_mslp = climatology.groupby('dayofyear').std()\n",
    "nomano_mslp = anomalie_mslp.groupby('time.dayofyear')/std_mslp"
   ]
  },
  {
   "cell_type": "code",
   "execution_count": 40,
   "metadata": {},
   "outputs": [
    {
     "name": "stdout",
     "output_type": "stream",
     "text": [
      "<xarray.Dataset>\n",
      "Dimensions:    (lat: 29, lon: 29, time: 1461)\n",
      "Coordinates:\n",
      "  * lat        (lat) float32 67.5 66.25 65.0 63.75 ... 36.25 35.0 33.75 32.5\n",
      "  * lon        (lon) float32 -10.0 -8.75 -7.5 -6.25 ... 21.25 22.5 23.75 25.0\n",
      "  * time       (time) datetime64[ns] 1958-01-01 1958-01-02 ... 1961-12-31\n",
      "    dayofyear  (time) int64 1 2 3 4 5 6 7 8 ... 358 359 360 361 362 363 364 365\n",
      "Data variables:\n",
      "    mslp       (time, lat, lon) float32 dask.array<shape=(1461, 29, 29), chunksize=(1, 29, 29)>\n"
     ]
    }
   ],
   "source": [
    "print (nomano_mslp)"
   ]
  },
  {
   "cell_type": "code",
   "execution_count": null,
   "metadata": {},
   "outputs": [],
   "source": []
  }
 ],
 "metadata": {
  "kernelspec": {
   "display_name": "Python 3",
   "language": "python",
   "name": "python3"
  },
  "language_info": {
   "codemirror_mode": {
    "name": "ipython",
    "version": 3
   },
   "file_extension": ".py",
   "mimetype": "text/x-python",
   "name": "python",
   "nbconvert_exporter": "python",
   "pygments_lexer": "ipython3",
   "version": "3.7.3"
  }
 },
 "nbformat": 4,
 "nbformat_minor": 2
}
